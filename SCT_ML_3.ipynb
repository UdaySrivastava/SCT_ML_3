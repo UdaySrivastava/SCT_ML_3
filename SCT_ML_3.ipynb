{
  "nbformat": 4,
  "nbformat_minor": 0,
  "metadata": {
    "colab": {
      "provenance": [],
      "gpuType": "V28"
    },
    "kernelspec": {
      "name": "python3",
      "display_name": "Python 3"
    },
    "language_info": {
      "name": "python"
    },
    "accelerator": "TPU"
  },
  "cells": [
    {
      "cell_type": "code",
      "execution_count": 1,
      "metadata": {
        "id": "SROMwQQo3YPx"
      },
      "outputs": [],
      "source": [
        "import os\n",
        "import zipfile\n",
        "import numpy as np\n",
        "import cv2\n",
        "from sklearn.model_selection import train_test_split\n",
        "from sklearn.svm import SVC\n",
        "from sklearn.decomposition import PCA\n",
        "from sklearn.metrics import accuracy_score, classification_report, confusion_matrix\n",
        "import matplotlib.pyplot as plt\n",
        "import seaborn as sns"
      ]
    },
    {
      "cell_type": "code",
      "source": [
        "# Path to the training dataset folder\n",
        "train_path = \"/content/train/train\"\n",
        "# Prepare lists for images and labels\n",
        "images = []\n",
        "labels = []\n",
        "# Iterate through training images\n",
        "for file_name in os.listdir(train_path):\n",
        "    try:\n",
        "        # Read the image\n",
        "        img = cv2.imread(os.path.join(train_path, file_name))\n",
        "        if img is not None:\n",
        "            # Resize the image to 64x64 pixels for consistency\n",
        "            img = cv2.resize(img, (64, 64))\n",
        "            # Flatten the image and normalize pixel values\n",
        "            images.append(img.flatten() / 255.0)\n",
        "            # Assign label based on file name\n",
        "            if \"cat\" in file_name.lower():\n",
        "                labels.append(0)  # Cat = 0\n",
        "            elif \"dog\" in file_name.lower():\n",
        "                labels.append(1)  # Dog = 1\n",
        "    except Exception as e:\n",
        "        print(f\"Error processing file {file_name}: {e}\")\n",
        "# Convert to NumPy arrays\n",
        "images = np.array(images)\n",
        "labels = np.array(labels)\n",
        "\n",
        "print(f\"Loaded {len(images)} images.\")\n",
        "print(f\"Loaded {len(labels)} labels.\")\n",
        "\n",
        "# Dimensionality reduction using PCA\n",
        "pca = PCA(n_components=100)\n",
        "images_reduced = pca.fit_transform(images)\n",
        "\n",
        "# Split the data into training and testing sets\n",
        "X_train, X_test, y_train, y_test = train_test_split(images_reduced, labels, test_size=0.2, random_state=42)\n",
        "\n",
        "# Initialize the SVM model\n",
        "svm_model = SVC(kernel=\"linear\")\n",
        "\n",
        "# Train the model\n",
        "svm_model.fit(X_train, y_train)\n",
        "\n",
        "# Make predictions\n",
        "y_pred = svm_model.predict(X_test)\n",
        "\n",
        "# Calculate accuracy\n",
        "accuracy = accuracy_score(y_test, y_pred)\n",
        "print(f\"Accuracy: {accuracy * 100:.2f}%\")\n",
        "\n",
        "# Display classification report\n",
        "print(\"Classification Report:\", classification_report(y_test, y_pred))\n",
        "\n",
        "# Confusion matrix visualization\n",
        "conf_matrix = confusion_matrix(y_test, y_pred)\n",
        "plt.figure(figsize=(6, 6))\n",
        "sns.heatmap(conf_matrix, annot=True, fmt=\"d\", cmap=\"Blues\", xticklabels=[\"Cat\", \"Dog\"], yticklabels=[\"Cat\", \"Dog\"])\n",
        "plt.title(\"Confusion Matrix\")\n",
        "plt.xlabel(\"Predicted Label\")\n",
        "plt.ylabel(\"True Label\")\n",
        "plt.show()"
      ],
      "metadata": {
        "id": "0lDqVk_iC2Lm"
      },
      "execution_count": null,
      "outputs": []
    }
  ]
}